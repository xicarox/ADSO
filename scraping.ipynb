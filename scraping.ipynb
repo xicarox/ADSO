{
 "cells": [
  {
   "cell_type": "code",
   "execution_count": null,
   "metadata": {},
   "outputs": [],
   "source": [
    "import requests\n",
    "from bs4 import BeautifulSoup\n",
    "from selenium import webdriver\n",
    "from selenium.webdriver.common.by import By\n",
    "import time\n",
    "\n",
    "from selenium.webdriver.chrome.service import Service\n",
    "\n",
    "s = Service(\"C:/path/to/chromedriver.exe\")\n",
    "driver = webdriver.Chrome(service=s)\n",
    "\n",
    "\n",
    "url = 'https://sena.territorio.la/index.php?login=true'\n",
    "path = 'chromedriver.exe'\n",
    "\n",
    "driver = webdriver.Chrome(path)\n",
    "driver.get(url)\n",
    "\n",
    "user='1095910391'\n",
    "passwd='1095910391'\n",
    "\n",
    "input_user=driver.find_element(By.XPATH,'/html/body/div[3]/div/div/div/form/table/tbody/tr[5]/td/input')\n",
    "input_passwd=driver.find_element(By.XPATH,'/html/body/div[3]/div/div/div/form/table/tbody/tr[7]/td/label/input')\n",
    "\n",
    "input_user.send_keys(user)\n",
    "input_passwd.send_keys(passwd)\n",
    "\n",
    "boton = driver.find_element(By.XPATH,'//*[@id=\"ingresar\"]')\n",
    "boton.click()\n",
    "\n",
    "time.sleep(2)\n",
    "course = driver.find_element(By.XPATH,'/html/body/div[12]/div/div[2]/div[1]/div[3]/div[2]/ul/li[1]/div/div[2]/span[1]/div/a')\n",
    "course.click()\n",
    "\n",
    "time.sleep(2)\n",
    "evidencia = driver.find_element(By.XPATH,'/html/body/div[15]/table[1]/tbody/tr/td[1]/div/ul/li/ul/li[7]/a')\n",
    "evidencia.click()\n",
    "resultados = {}\n",
    "\n",
    "for i in range(1, 165):  # Iterar N veces\n",
    "    time.sleep(4)\n",
    "    titulo = driver.find_element(By.XPATH, f'/html/body/div[15]/table[1]/tbody/tr/td[2]/div[3]/div[3]/div[1]/div[4]/div[{i}]/table/tbody/tr/td[1]/a').text\n",
    "    calificacion = driver.find_element(By.XPATH, f'/html/body/div[15]/table[1]/tbody/tr/td[2]/div[3]/div[3]/div[1]/div[4]/div[{i}]/table/tbody/tr/td[4]/span').text\n",
    "    resultados[titulo] = calificacion\n",
    "\n",
    "print(resultados)"
   ]
  },
  {
   "cell_type": "code",
   "execution_count": 41,
   "metadata": {},
   "outputs": [],
   "source": [
    "#postgressql\n",
    "import psycopg2\n",
    "\n",
    "# Conectarse a la base de datos\n",
    "conn = psycopg2.connect(\n",
    "    host=\"127.0.0.1\",\n",
    "    database=\"pcl\",\n",
    "    user=\"postgres\",\n",
    "    password=\"123456\"\n",
    ")\n",
    "# Abrir un cursor\n",
    "cur = conn.cursor()\n",
    "\n",
    "# Iterar sobre el diccionario y guardar los datos en la base de datos\n",
    "for titulo, calificacion in resultados.items():\n",
    "    query = f\"INSERT INTO adso.scraping_web (titulo, calificacion) VALUES ('{titulo}', '{calificacion}')\"\n",
    "    cur.execute(query)\n",
    "\n",
    "# Guardar los cambios y cerrar la conexión\n",
    "conn.commit()\n",
    "cur.close()\n",
    "conn.close()\n"
   ]
  },
  {
   "cell_type": "code",
   "execution_count": null,
   "metadata": {},
   "outputs": [],
   "source": [
    "#Mysql\n",
    "import mysql.connector\n",
    "\n",
    "# Conectarse a la base de datos\n",
    "cnx = mysql.connector.connect(\n",
    "    host=\"tu_host\",\n",
    "    user=\"tu_usuario\",\n",
    "    password=\"tu_contraseña\",\n",
    "    database=\"tu_basedatos\"\n",
    ")\n",
    "\n",
    "# Abrir un cursor\n",
    "cursor = cnx.cursor()\n",
    "\n",
    "# Iterar sobre el diccionario y guardar los datos en la base de datos\n",
    "for titulo, calificacion in resultados.items():\n",
    "    query = \"INSERT INTO nombre_tabla (titulo, calificacion) VALUES (%s, %s)\"\n",
    "    data = (titulo, calificacion)\n",
    "    cursor.execute(query, data)\n",
    "\n",
    "# Guardar los cambios y cerrar la conexión\n",
    "cnx.commit()\n",
    "cursor.close()\n",
    "cnx.close()\n"
   ]
  }
 ],
 "metadata": {
  "kernelspec": {
   "display_name": "Python 3",
   "language": "python",
   "name": "python3"
  },
  "language_info": {
   "codemirror_mode": {
    "name": "ipython",
    "version": 3
   },
   "file_extension": ".py",
   "mimetype": "text/x-python",
   "name": "python",
   "nbconvert_exporter": "python",
   "pygments_lexer": "ipython3",
   "version": "3.11.1"
  },
  "orig_nbformat": 4,
  "vscode": {
   "interpreter": {
    "hash": "3b7d32af1e689683b59f84af5e00ff8511e054604b74fc1830ce1b819250cf76"
   }
  }
 },
 "nbformat": 4,
 "nbformat_minor": 2
}
