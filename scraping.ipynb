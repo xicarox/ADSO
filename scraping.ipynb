{
 "cells": [
  {
   "cell_type": "code",
   "execution_count": 6,
   "metadata": {},
   "outputs": [],
   "source": [
    "import requests\n",
    "from bs4 import BeautifulSoup\n",
    "from selenium import webdriver\n",
    "from selenium.webdriver.common.by import By\n",
    "import time\n",
    "from selenium.webdriver.chrome.service import Service\n",
    "\n",
    "\n",
    "s = Service(\"C:/path/to/chromedriver.exe\")\n",
    "driver = webdriver.Chrome(service=s)\n",
    "\n",
    "url = 'https://sena.territorio.la/index.php?login=true'\n",
    "driver.get(url)\n",
    "\n",
    "user='1095910391'\n",
    "passwd='1095910391'\n",
    "\n",
    "input_user=driver.find_element(By.XPATH,'/html/body/div[3]/div/div/div/form/table/tbody/tr[5]/td/input')\n",
    "input_passwd=driver.find_element(By.XPATH,'/html/body/div[3]/div/div/div/form/table/tbody/tr[7]/td/label/input')\n",
    "\n",
    "input_user.send_keys(user)\n",
    "input_passwd.send_keys(passwd)\n",
    "\n",
    "boton = driver.find_element(By.XPATH,'//*[@id=\"ingresar\"]')\n",
    "boton.click()\n",
    "\n",
    "time.sleep(2)\n",
    "course = driver.find_element(By.XPATH,'/html/body/div[12]/div/div[2]/div[1]/div[3]/div[2]/ul/li[1]/div/div[2]/span[1]/div/a')\n",
    "course.click()\n",
    "\n",
    "time.sleep(2)\n",
    "evidencia = driver.find_element(By.XPATH,'/html/body/div[15]/table[1]/tbody/tr/td[1]/div/ul/li/ul/li[7]/a')\n",
    "evidencia.click()\n",
    "\n",
    "resultados = {}\n",
    "for i in range(1, 165):  # Iterar N veces\n",
    "    time.sleep(6)\n",
    "    titulo = driver.find_element(By.XPATH, f'/html/body/div[15]/table[1]/tbody/tr/td[2]/div[3]/div[3]/div[1]/div[4]/div[{i}]/table/tbody/tr/td[1]/a').text\n",
    "    calificacion = driver.find_element(By.XPATH, f'/html/body/div[15]/table[1]/tbody/tr/td[2]/div[3]/div[3]/div[1]/div[4]/div[{i}]/table/tbody/tr/td[4]').text\n",
    "    entrega = driver.find_element(By.XPATH, f'/html/body/div[15]/table[1]/tbody/tr/td[2]/div[3]/div[3]/div[1]/div[4]/div[{i}]/table/tbody/tr/td[5]').text\n",
    "\n",
    "    resultados[titulo] = (calificacion, entrega)\n"
   ]
  },
  {
   "cell_type": "code",
   "execution_count": 7,
   "metadata": {},
   "outputs": [
    {
     "name": "stdout",
     "output_type": "stream",
     "text": [
      "{'Ficha antropométrica de valoración de la condición física GA6-230101507-AA3-EV02': ('Sin calificación', ''), 'Folleto de lesiones más comunes en el trabajo o vida cotidiana, y la importancia de las pausas activas GA6-230101507-AA4-EV01': ('Sin calificación', ''), 'Infografía - Plan de higiene y gasto calórico GA6-230101507-AA2-EV01': ('Sin calificación', ''), 'Módulos de software codificados y probados GA7-220501096-AA2-EV02': ('Sin calificación', ''), 'Verificación de procedimientos para la definición de componentes front-end de la aplicación (Listas de chequeo) GA7-220501096-AA4-EV02': ('Sin calificación', ''), 'Identifica herramientas de versionamiento GA7-220501096-AA1-EV03': ('Sin calificación', ''), 'Fundamentos en la implementación de componentes front-end, HTML, CSS, JS GA6-220501096-AA4-EV01': ('Sin calificación', ''), 'Codificación de módulos del software Stand-alone, web y móvil de acuerdo al proyecto a desarrollar GA7-220501096-AA3-EV01': ('Sin calificación', ''), 'Creación de la estructura de la BD y aplicación de restricciones GA6-220501096-AA2-EV02': ('Sin calificación', ''), 'Establecer los componentes front-end de la aplicación web GA6-220501096-AA4-EV02': ('Sin calificación', ''), 'Definir estándares de codificación de acuerdo a plataforma de desarrollo elegida GA7-220501096-AA1-EV02': ('Sin calificación', ''), 'Taller sobre componentes front-end GA7-220501096-AA4-EV01': ('Sin calificación', ''), 'Mapa mental - capacidades físicas condicionales GA6-230101507-AA3-EV01': ('Sin calificación', ''), 'Video sobre el tema específico de su actividad laboral o programa de formación GA6-240202501-AA1-EV02': ('Sin calificación', ''), 'Documento escrito GA6-240202501-AA1-EV01': ('Sin calificación', ''), 'Selección herramientas para prototipado GA6-220501096-AA3-EV01': ('Sin calificación', ''), 'Componente front-end del proyecto formativo y proyectos de clase (listas de chequeo) GA7-220501096-AA4-EV03': ('Sin calificación', ''), 'Módulos de software codificados y probados GA7-220501096-AA3-EV02': ('Sin calificación', ''), 'Script Bases de Datos del Proyecto GA6-220501096-AA2-EV03': ('Sin calificación', ''), 'Diseño front-end que cumpla con los requerimientos del proyecto GA6-220501096-AA4-EV03': ('Sin calificación', ''), 'Codificación de módulos del software según requerimientos del proyecto GA7-220501096-AA2-EV01': ('Sin calificación', ''), 'Crear el diseño del sitio web y/o móviles utilizando sus componentes y tecnologías respectivas GA6-220501096-AA3-EV02': ('Sin calificación', ''), 'Herramientas de versionamiento (GIT) instalada y configurada GA7-220501096-AA1-EV05': ('Sin calificación', ''), 'Instalación y configuración de herramienta de versionamiento (Local / Web) GA7-220501096-AA1-EV04': ('Sin calificación', ''), 'Interfaces gráficas según requerimientos del proyecto GA6-220501096-AA3-EV03': ('Sin calificación', ''), 'Destrezas y conocimientos en el manejo de sentencias DDL y DML de SQL GA6-220501096-AA2-EV01': ('Sin calificación', ''), 'Informe técnico de plan de trabajo para construcción de software GA7-220501096-AA1-EV01': ('Sin calificación', ''), 'Presentación sobre las estrategias para la prevención y control de los impactos ambientales, accidentes y enfermedades laborales (ATEL) GA8-220601501-AA2-EV01': ('Sin calificación', ''), 'API del Proyecto GA7-220501096-AA5-EV04': ('Sin calificación', ''), 'API GA7-220501096-AA5-EV02': ('Sin calificación', ''), 'APK (Desarrollar módulos móvil según requerimientos del proyecto) GA8-220501096-AA2-EV02': ('Sin calificación', ''), 'Aplicación de buenas prácticas de calidad documentadas en las disciplinas de calidad de software. GA11-220501098-AA1-EV02': ('Sin calificación', ''), 'Archivos cargados en la plataforma de producción GA10-220501097-AA6-EV01': ('Sin calificación', ''), 'Bitácoras con los procesos documentados. GA11-220501098-AA1-EV04': ('Sin calificación', ''), 'Conceptos y principios acerca de configuración se servicios GA10-220501097-AA4-EV01': ('Sin calificación', ''), 'Conceptos y principios de hardware e instalación de software GA10-220501097-AA1-EV01': ('Sin calificación', ''), 'Creación de informe con los resultados del comportamiento del software. GA11-220501098-AA2-EV01': ('Sin calificación', ''), 'Cuadro comparativo sobre el derecho de petición y la acción de tutela. GA11-210201501-AA3-EV03': ('Sin calificación', ''), 'Desarrollar software a partir de la integración de sus módulos componentes GA8-220501096-AA1-EV01': ('Sin calificación', ''), 'Diagrama de sistemas. Relación del individuo con el entorno GA9-240201526-AA3-EV01': ('Sin calificación', ''), 'Diseña casos y define el ambiente de pruebas de software según proyecto GA9-220501096-AA2-EV01': ('Sin calificación', ''), 'Diseñar plan de mantenimiento y soporte del software GA10-220501097-AA8-EV01': ('Sin calificación', ''), 'Diseño y Desarrollo de servicios web - caso GA7-220501096-AA5-EV01': ('Sin calificación', ''), 'Diseño y Desarrollo de servicios web - proyecto GA7-220501096-AA5-EV03': ('Sin calificación', ''), 'Diseño y diligenciamiento de instrumentos para documentar procesos de calidad del software. GA11-220501098-AA1-EV03': ('Sin calificación', ''), 'Documenta pruebas de software de acuerdo a la planificación GA9-220501096-AA3-EV01': ('Sin calificación', ''), 'Documentación de plan de migración y respaldo de los datos del software GA10-220501097-AA9-EV01': ('Sin calificación', ''), 'Documentación plan de capacitación y Acta de entrega del proyecto de software GA10-220501097-AA13-EV01': ('Sin calificación', ''), 'Documento colaborativo. Solución del caso GA9-240201526-AA6-EV01': ('Sin calificación', ''), 'Documento con las verificaciones de condiciones de calidad del producto de software ajustado. GA11-220501098-AA3-EV02': ('Sin calificación', ''), 'DOFA Personal. Identificar habilidades personales como emprendedor GA10-240201529-AA1-EV01': ('Sin calificación', ''), 'Ejemplo de una marca sostenible que cumpla con TRIPLE BOTTOM LINE GA9-240201526-AA4-EV01': ('Sin calificación', ''), 'Elabora documentos técnicos y de usuario del software GA10-220501097-AA10-EV01': ('Sin calificación', ''), 'Elabora el manual de usuario de acuerdo con las funcionalidades del software GA10-220501097-AA11-EV01': ('Sin calificación', ''), 'Elabora plan de capacitación y realización de pruebas de aceptación del cliente GA10-220501097-AA12-EV01': ('Sin calificación', ''), 'Elaborar plan de validación de características mínimas de hardware para el software GA10-220501097-AA2-EV01': ('Sin calificación', ''), 'Gráfico sobre la negociación colectiva. GA11-210201501-AA2-EV03': ('Sin calificación', ''), 'Infografía procesos de desarrollo del software. GA11-220501098-AA1-EV01': ('Sin calificación', ''), 'Infografía sobre la huelga. GA11-210201501-AA2-EV04': ('Sin calificación', ''), 'Informe sobre trabajo decente, ciudadanía laboral, derechos individuales y colectivos en el trabajo. GA11-210201501-AA2-EV01': ('Sin calificación', ''), 'Mapa mental respecto a los planes y acciones establecidos en medio ambiente y SST GA8-220601501-AA3-EV01': ('Sin calificación', ''), 'Mapa mental violación de derechos del trabajo. GA11-210201501-AA3-EV01': ('Sin calificación', ''), 'Mapa mental. Hitos del conflicto armado en Colombia en los últimos 50 años GA9-240201526-AA5-EV01': ('Sin calificación', ''), 'Modelo CANVAS del emprendimiento. Crear modelo de negocio en el que se caracteriza el emprendimiento GA10-240201529-AA2-EV01': ('Sin calificación', ''), 'Modelo financiero. Proyectar viabilidad financiera del emprendimiento GA10-240201529-AA3-EV01': ('Sin calificación', ''), 'Módulos integrados GA8-220501096-AA1-EV02': ('Sin calificación', ''), 'Presentación. GA11-210201501-AA4-EV02': ('Sin calificación', ''), 'Realiza ajustes en los procesos de desarrollo. GA11-220501098-AA3-EV01': ('Sin calificación', ''), 'Realiza la configuración de servicios, bases de datos y software en el equipo del cliente GA10-220501097-AA5-EV01': ('Sin calificación', ''), 'Realiza plan pruebas de software GA9-220501096-AA1-EV02': ('Sin calificación', ''), 'Realización de pruebas de funcionalidad del software GA10-220501097-AA7-EV01': ('Sin calificación', ''), 'Realizar informe de las experiencias aprendidas en el proceso de verificación del software. GA11-220501098-AA2-EV02': ('Sin calificación', ''), 'Reporte de plan de pruebas ejecutados GA9-220501096-AA3-EV02': ('Sin calificación', ''), 'Software instalado en la plataforma del cliente GA10-220501097-AA3-EV01': ('Sin calificación', ''), 'Taller acerca de integración, tecnologías emergentes y disruptivas GA8-220501096-AA2-EV01': ('Sin calificación', ''), 'Taller de reflexión escrita. Caso Malala GA9-240201526-AA1-EV01': ('Sin calificación', ''), 'Taller sobre codificación de módulos del software GA9-220501096-AA1-EV01': ('Sin calificación', ''), 'Taller sobre tecnologías emergentes y disruptivas GA8-220501096-AA2-EV03': ('Sin calificación', ''), 'Taller. GA11-210201501-AA1-EV01': ('Sin calificación', ''), 'Texto argumentativo sobre Blockchain GA8-220501096-AA2-EV05': ('Sin calificación', ''), 'Texto argumentativo. GA11-210201501-AA3-EV04': ('Sin calificación', ''), 'Video exposición sobre Machine learning GA8-220501096-AA2-EV04': ('Sin calificación', ''), 'Video expositivo sobre oportunidades de mejora en medio ambiente y SST GA8-220601501-AA4-EV01': ('Sin calificación', ''), 'Video presentación. Proyecto de vida GA9-240201526-AA2-EV01': ('Sin calificación', ''), 'Crea Modelo entidad relación de caso GA6-220501096-AA1-EV02': ('Sin calificación', ''), 'Resolución de problemas aplicando el modelo relacional, cardinalidad y normalización GA6-220501096-AA1-EV01': ('Sin calificación', ''), 'Creación de los objetos de la Base de Datos GA6-220501096-AA1-EV03': ('Sin calificación', ''), 'Taller sobre validación de documentos GA4-220501095-AA4-EV01': ('A', ''), 'Listas de chequeo para validación de documentación de diseño GA4-220501095-AA4-EV03': ('A', ''), 'Diseño de instrumentos para verificación de artefactos GA4-220501095-AA4-EV02': ('A', ''), 'Modelos conceptual y lógico para el proyecto desarrollo de software GA4-220501095-AA1-EV02': ('A', ''), 'Diagrama de Clases del proyecto de software GA4-220501095-AA2-EV04': ('A', ''), 'Diagrama de despliegue para caso de estudio y proyecto de software GA4-220501095-AA3-EV03': ('A', ''), 'Informe de evaluación a los artefactos de diseño del software GA4-220501095-AA4-EV04': ('A', ''), 'Elaboración de la Bases de Datos GA6-220501096-AA1-EV04': ('Sin calificación', ''), 'Identificar entidades y relaciones planteadas en el caso de estudio GA4-220501093-AA1-EV01': ('A', ''), 'Taller Arquitectura de software GA4-220501095-AA2-EV06': ('A', ''), 'Elaboración de interfaz gráfica y mapa de navegación cumpliendo con reglas de usabilidad y accesibilidad GA5-220501095-AA1-EV03': ('Sin calificación', ''), 'Ensayo sobre las etapas básicas del proceso de una empresa y las personas en un equipo de trabajo GA5-240202501-AA1-EV02': ('Sin calificación', ''), 'Informe. Creación de contenidos comunicativos GA4-240201524-AA2-EV01': ('A', ''), 'Mapa de Navegación GA5-220501095-AA1-EV05': ('Sin calificación', ''), 'Mapa mental - características socioeconómicas, tecnológicas, políticas y culturales del contexto productivo inmediato GA5-240201064-AA1-EV01': ('Sin calificación', ''), 'Maquetación de la Interfaz gráfica en HTML GA5-220501095-AA1-EV04': ('Sin calificación', ''), 'Propuesta de investigación formativa GA5-240201064-AA2-EV01': ('Sin calificación', ''), 'Taller sobre construcción del prototipo del software de acuerdo al análisis de las características funcionales y de calidad GA5-220501095-AA1-EV01': ('Sin calificación', ''), 'Video sobre las etapas básicas del proceso de una empresa y las personas en un equipo de trabajo GA5-240202501-AA1-EV03': ('Sin calificación', ''), 'Video. La comunicación como expresión humana GA4-240201524-AA1-EV01': ('Sin calificación', ''), 'Taller de conceptos y principios de programación orientada a objetos GA4-220501095-AA2-EV01': ('A', ''), 'Audio GA3-240202501-AA2-EV02': ('Sin calificación', ''), 'Diagrama de flujo sobre las instrucciones de un proceso relacionado con su quehacer laboral GA5-240202501-AA1-EV01': ('Sin calificación', ''), 'Mapa mental sobre su (Personal Learning Environment) PLE GA4-240202501-AA1-EV02': ('Sin calificación', ''), 'Nociones de reglas de usabilidad y accesibilidad en aplicaciones independientes, web GA5-220501095-AA1-EV02': ('Sin calificación', ''), 'Taller aplicando funciones y procedimientos en la solución de algoritmos GA3-220501093-AA2-EV03': ('A', ''), 'Resolución a problemas algorítmicos aplicando estructuras de almacenamiento GA3-220501093-AA3-EV02': ('A', ''), 'Bases teóricas de estructuras de almacenamiento en memoria GA3-220501093-AA3-EV01': ('A', ''), 'Fundamentos de programación estructurada y estructuras cíclicas GA3-220501093-AA2-EV01': ('A', ''), 'Taller de resolución de problemas de algoritmos en pseudocódigo y diagramas de flujo GA3-220501093-AA1-EV02': ('A', ''), 'Bases conceptuales de lógica proposicional GA3-220501093-AA1-EV01': ('A', ''), 'Informe mejora de productos y procesos con la incorporación de TIC. GA1-220501046-AA3-EV01': ('A', ''), 'Mapa conceptual - Software y servicios de internet. Relacionar correctamente los tipos de software y servicios de internet. GA1-220501046-AA1-EV01': ('A', ''), 'Taller. Utilización de las herramientas de Ofimática. Realizar un taller práctico con las herramientas ofimáticas. GA1-220501046-AA2-EV01': ('A', ''), 'Mapa mental sobre ingeniería de requisitos. GA1-220501092-AA2-EV01': ('A', ''), 'Video presentación. GA1-240202501-AA1-EV02': ('A', ''), 'Taller sobre metodologías de desarrollo de software. GA1-220501093-AA1-EV01': ('A', ''), 'Documento identificando la metodología para el proyecto de desarrollo de software. GA1-220501093-AA1-EV04': ('A', ''), 'Informe de evaluación de los requerimientos. GA1-220501092-AA5-EV02': ('A', ''), 'Taller para la determinación de las especificaciones funcionales del software y metodología a utilizar. GA1-220501092-AA5-EV01': ('A', ''), 'Folleto. GA1-240202501-AA1-EV03': ('A', ''), 'Especificación de los requerimientos funcionales y no funcionales del software. GA1-220501092-AA4-EV01': ('A', ''), 'Documento con especificación de requerimientos. GA1-220501092-AA4-EV02': ('A', ''), 'Infografía sobre metodologías de desarrollo de software. GA1-220501093-AA1-EV02': ('A', ''), 'Diseño del instrumento de recolección de información. GA1-220501092-AA3-EV01': ('A', ''), 'Formulario de recolección de información. GA1- 220501092-AA3-EV03': ('A', ''), 'Formulación del proyecto de software. GA1-220501092-AA3-EV02': ('A', ''), 'Identificación de procesos organizacionales. GA1-220501092-AA1-EV02': ('A', ''), 'Mapa de procesos del software a construir. GA1-220501092-AA1-EV03': ('A', ''), 'Infografía sobre la Teoría General de Sistemas. GA1-220501092-AA1-EV01': ('A', ''), 'Bitácora de procesos desarrollados en la competencia GA3-220201501-AA4-EV02': ('Sin calificación', ''), 'Video-expositivo sobre experimento de aplicación GA3-220201501-AA2-EV01': ('Sin calificación', ''), 'Video-expositivo sobre experimento de aplicación GA3-220201501-AA4-EV01': ('Sin calificación', ''), 'Audio GA3-240202501-AA1-EV02': ('Sin calificación', ''), 'Informe de laboratorio GA3-220201501-AA3-EV01': ('Sin calificación', ''), 'Presentación. GA2-240202501-AA2-EV02': ('A', ''), 'Elaboración del informe de análisis con listas de chequeo para la validación de artefactos. GA2-220501093-AA3-EV02': ('A', ''), 'Crónica. GA2-240202501-AA1-EV03': ('A', ''), 'Elaboración de historias de usuario del proyecto. GA2-220501093-AA1-EV03': ('A', ''), 'Documento escrito. GA2-240202501-AA2-EV03': ('A', ''), 'Elaboración de los diagramas del Modelo de dominio del proyecto. GA2-220501093-AA2-EV01': ('A', ''), 'Especificación de los referentes técnicos del hardware - software y estimación de las condiciones económicas. GA2-220501094-AA1-EV03': ('A', ''), 'Diseño de las fichas técnicas para la recolección de la información. GA2-220501094-AA1-EV02': ('A', ''), 'Ficha técnica de los productos requeridos, los términos de referencia para el contrato y lista de chequeo para evaluación de proveedores. GA2-220501094-AA2-EV01': ('A', ''), 'Elaboración de diagramas y plantillas para casos de uso del proyecto. GA2-220501093-AA1-EV02': ('A', ''), 'Diagramas y documentación de actividades del proyecto. GA2-220501093-AA1-EV04': ('A', ''), 'Vídeo entrevista virtual. GA2-240202501-AA1-EV02': ('A', ''), 'Diseño de tablas comparativas sobre presupuestos de hardware y software. GA2-220501094-AA3-EV01': ('A', ''), 'Taller de especificación del modelo conceptual y estructurar la propuesta técnica del proyecto de software. GA2-220501094-AA4-EV01': ('A', ''), 'Algoritmo para el cálculo de áreas y volúmenes. GA2-240201528-AA4-EV01': ('A', ''), 'Planteamiento de ecuación. GA2-240201528-AA2-EV01': ('A', ''), 'Video sustentación. GA2-240201528-AA3-EV01': ('A', ''), 'Representación gráfica: Reconociendo mi ambiente formativo': ('A', ''), 'Resumen: Proyección de elección alternativa productiva': ('A', ''), 'Estudio de caso: La oportunidad de formarme': ('A', ''), 'Portafolio: Mis evidencias': ('A', ''), 'Relato: Trabajo colaborativo': ('A', '')}\n"
     ]
    }
   ],
   "source": [
    "print(resultados)"
   ]
  },
  {
   "cell_type": "code",
   "execution_count": 58,
   "metadata": {},
   "outputs": [],
   "source": [
    "import pandas as pd\n",
    "datos = pd.DataFrame(resultados.items(), columns=['Titulo', 'Calificacion'])"
   ]
  },
  {
   "cell_type": "code",
   "execution_count": 59,
   "metadata": {},
   "outputs": [],
   "source": [
    "# Establecer el ancho de las columnas en 100\n",
    "pd.set_option('display.max_colwidth', 500)\n",
    "pd.set_option('display.max_rows', 500)\n",
    "pd.set_option('display.max_columns', 500)\n",
    "# crear un ejemplo de dataframe\n",
    "df = datos"
   ]
  },
  {
   "cell_type": "code",
   "execution_count": 62,
   "metadata": {},
   "outputs": [],
   "source": [
    "# agregar columnas nuevas para el título corto y el código GA\n",
    "df['Tarea'] = ''\n",
    "df['Evidencia'] = ''\n",
    "\n",
    "for i in range(len(df)):\n",
    "    if pd.isna(df.loc[i, 'Titulo']):\n",
    "        continue # saltar la iteración si el valor es NaN\n",
    "    # verificar si el indicador \"GA\" está presente en el texto\n",
    "    if 'GA' in df.loc[i, 'Titulo']:\n",
    "        # separar el texto antes del indicador \"GA\"\n",
    "        titulo_corto, codigo_ga = df.loc[i, 'Titulo'].split('GA')\n",
    "        df.loc[i, 'Tarea'] = titulo_corto.strip()\n",
    "        df.loc[i, 'Evidencia'] = 'GA' + codigo_ga.strip()\n",
    "    else:\n",
    "        # si el indicador \"GA\" no está presente, copiar todo el texto en \"Titulo_corto\"\n",
    "        df.loc[i, 'Tarea'] = df.loc[i, 'Titulo']"
   ]
  },
  {
   "cell_type": "code",
   "execution_count": 71,
   "metadata": {},
   "outputs": [],
   "source": [
    "evidencia = df.loc[:, ['Tarea', 'Evidencia', 'Calificacion']]"
   ]
  },
  {
   "cell_type": "code",
   "execution_count": 72,
   "metadata": {},
   "outputs": [],
   "source": [
    "# Exportar el dataframe a un archivo de Excel\n",
    "evidencia.to_excel('ejemplo.xlsx', index=False)"
   ]
  },
  {
   "cell_type": "code",
   "execution_count": 74,
   "metadata": {},
   "outputs": [],
   "source": [
    "import psycopg2\n",
    "\n",
    "# Conectarse a la base de datos\n",
    "conn = psycopg2.connect(\n",
    "    host=\"127.0.0.1\",\n",
    "    database=\"pcl\",\n",
    "    user=\"postgres\",\n",
    "    password=\"123456\"\n",
    ")\n",
    "\n",
    "# Abrir un cursor\n",
    "cur = conn.cursor()\n",
    "\n",
    "# Iterar sobre las filas del dataframe y guardar los datos en la base de datos\n",
    "for index, row in evidencia.iterrows():\n",
    "    tarea = row['Tarea']\n",
    "    evidencia = row['Evidencia']\n",
    "    calificacion = row['Calificacion']\n",
    "    query = f\"INSERT INTO adso.scraping_web (Tarea, Evidencia, Calificacion) VALUES ('{tarea}', '{evidencia}', '{calificacion}')\"\n",
    "    cur.execute(query)\n",
    "\n",
    "# Guardar los cambios y cerrar la conexión\n",
    "conn.commit()\n",
    "cur.close()\n",
    "conn.close()\n",
    "\n"
   ]
  },
  {
   "cell_type": "code",
   "execution_count": null,
   "metadata": {},
   "outputs": [],
   "source": [
    "#Mysql\n",
    "import mysql.connector\n",
    "\n",
    "# Conectarse a la base de datos\n",
    "cnx = mysql.connector.connect(\n",
    "    host=\"tu_host\",\n",
    "    user=\"tu_usuario\",\n",
    "    password=\"tu_contraseña\",\n",
    "    database=\"tu_basedatos\"\n",
    ")\n",
    "\n",
    "# Abrir un cursor\n",
    "cursor = cnx.cursor()\n",
    "\n",
    "# Iterar sobre las filas del dataframe y guardar los datos en la base de datos\n",
    "for index, row in evidencia.iterrows():\n",
    "    tarea = row['Tarea']\n",
    "    evidencia = row['Evidencia']\n",
    "    calificacion = row['Calificacion']\n",
    "    query = \"INSERT INTO nombre_tabla (Tarea, Evidencia, Calificacion) VALUES (%s, %s, %s)\"\n",
    "    data = (tarea, evidencia, calificacion)\n",
    "    cursor.execute(query, data)\n",
    "\n",
    "# Guardar los cambios y cerrar la conexión\n",
    "cnx.commit()\n",
    "cursor.close()\n",
    "cnx.close()\n"
   ]
  }
 ],
 "metadata": {
  "kernelspec": {
   "display_name": "Python 3",
   "language": "python",
   "name": "python3"
  },
  "language_info": {
   "codemirror_mode": {
    "name": "ipython",
    "version": 3
   },
   "file_extension": ".py",
   "mimetype": "text/x-python",
   "name": "python",
   "nbconvert_exporter": "python",
   "pygments_lexer": "ipython3",
   "version": "3.11.1"
  },
  "orig_nbformat": 4,
  "vscode": {
   "interpreter": {
    "hash": "3b7d32af1e689683b59f84af5e00ff8511e054604b74fc1830ce1b819250cf76"
   }
  }
 },
 "nbformat": 4,
 "nbformat_minor": 2
}
