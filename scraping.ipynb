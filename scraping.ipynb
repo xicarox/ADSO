{
 "cells": [
  {
   "cell_type": "code",
   "execution_count": 3,
   "metadata": {},
   "outputs": [],
   "source": [
    "\n",
    "import requests\n",
    "from bs4 import BeautifulSoup\n",
    "from selenium import webdriver\n",
    "from selenium.webdriver.common.by import By\n",
    "import time\n",
    "from selenium.webdriver.chrome.service import Service\n",
    "\n",
    "\n",
    "s = Service(\"C:/path/to/chromedriver.exe\")\n",
    "driver = webdriver.Chrome(service=s)\n",
    "\n",
    "url = 'https://sena.territorio.la/index.php?login=true'\n",
    "driver.get(url)\n",
    "\n",
    "user='1095910391'\n",
    "passwd='1095910391'\n",
    "\n",
    "time.sleep(2)\n",
    "input_user=driver.find_element(By.XPATH,'/html/body/div[3]/div/div/div/form/table/tbody/tr[5]/td/input')\n",
    "input_user.send_keys(user)\n",
    "input_passwd=driver.find_element(By.XPATH,'/html/body/div[3]/div/div/div/form/table/tbody/tr[7]/td/label/input')\n",
    "input_passwd.send_keys(passwd)\n",
    "\n",
    "time.sleep(2)\n",
    "boton = driver.find_element(By.XPATH,'//*[@id=\"ingresar\"]')\n",
    "boton.click()\n",
    "\n",
    "time.sleep(2)\n",
    "closed = driver.find_element(By.XPATH,'//*[@id=\"cierra\"]')\n",
    "closed.click()\n",
    "\n",
    "\n",
    "time.sleep(8)\n",
    "course = driver.find_element(By.XPATH,'/html/body/div[12]/div/div[2]/div[1]/div[3]/div[2]/ul/li[1]/div/div[2]/span[1]/div/a')\n",
    "course.click()\n",
    "\n",
    "time.sleep(2)\n",
    "evidencia = driver.find_element(By.XPATH,'/html/body/div[15]/table[1]/tbody/tr/td[1]/div/ul/li/ul/li[7]/a')\n",
    "evidencia.click()\n",
    "\n",
    "time.sleep(10)\n",
    "# Definir una lista de opciones\n",
    "opciones = [7,8,9,10]  # Agregar más opciones si es necesario\n",
    "resultados = {}\n",
    "time.sleep(4)\n",
    "# Iterar sobre las opciones\n",
    "for opcion in opciones:\n",
    "    # Seleccionar la opción\n",
    "    select = driver.find_element(By.XPATH, f'//*[@id=\"idpondeMenu\"]/option[{opcion}]')\n",
    "    select.click()\n",
    "    fase = select.text\n",
    "    time.sleep(2)\n",
    "    # Obtener el número de filas\n",
    "    filas = driver.find_elements(By.XPATH, '/html/body/div[15]/table[1]/tbody/tr/td[2]/div[3]/div[3]/div[1]/div[4]/div/table/tbody/tr')\n",
    "    time.sleep(3)\n",
    "    # Iterar sobre las filas\n",
    "    for i in range(1, len(filas) + 1):\n",
    "        time.sleep(6)\n",
    "        titulo = driver.find_element(By.XPATH, f'/html/body/div[15]/table[1]/tbody/tr/td[2]/div[3]/div[3]/div[1]/div[4]/div[{i}]/table/tbody/tr/td[1]/a').text\n",
    "        calificacion = driver.find_element(By.XPATH, f'/html/body/div[15]/table[1]/tbody/tr/td[2]/div[3]/div[3]/div[1]/div[4]/div[{i}]/table/tbody/tr/td[4]').text\n",
    "        entrega = driver.find_element(By.XPATH, f'/html/body/div[15]/table[1]/tbody/tr/td[2]/div[3]/div[3]/div[1]/div[4]/div[{i}]/table/tbody/tr/td[5]/strong').text\n",
    "\n",
    "        resultados[titulo] = (calificacion, entrega, fase)\n",
    "\n"
   ]
  },
  {
   "cell_type": "code",
   "execution_count": 4,
   "metadata": {},
   "outputs": [],
   "source": [
    "import pandas as pd\n",
    "\n",
    "datos = pd.DataFrame.from_dict(resultados, orient='index', columns=['Calificacion', 'Entrega', 'Fase'])\n",
    "datos.index.name = 'Titulo'\n",
    "datos.reset_index(inplace=True)"
   ]
  },
  {
   "cell_type": "code",
   "execution_count": 5,
   "metadata": {},
   "outputs": [
    {
     "name": "stderr",
     "output_type": "stream",
     "text": [
      "C:\\Users\\soportetecnico02\\AppData\\Local\\Temp\\ipykernel_7184\\1149926558.py:9: FutureWarning: The default value of regex will change from True to False in a future version.\n",
      "  df['Fase'] = df['Fase'].str.replace(r'.*Fase', 'Fase')\n"
     ]
    }
   ],
   "source": [
    "'''\n",
    "# Establecer el ancho de las columnas en 100\n",
    "pd.set_option('display.max_colwidth', 500)\n",
    "pd.set_option('display.max_rows', 500)\n",
    "pd.set_option('display.max_columns', 500)\n",
    "# crear un ejemplo de dataframe'''\n",
    "df = datos\n",
    "# Usamos la función str.replace para eliminar la subcadena antes de \"Fase\"\n",
    "df['Fase'] = df['Fase'].str.replace(r'.*Fase', 'Fase')"
   ]
  },
  {
   "cell_type": "code",
   "execution_count": 6,
   "metadata": {},
   "outputs": [],
   "source": [
    "# agregar columnas nuevas para el título corto y el código GA\n",
    "df['Tarea'] = ''\n",
    "df['Evidencia'] = ''\n",
    "\n",
    "for i in range(len(df)):\n",
    "    if pd.isna(df.loc[i, 'Titulo']):\n",
    "        continue # saltar la iteración si el valor es NaN\n",
    "    # verificar si el indicador \"GA\" está presente en el texto\n",
    "    if 'GA' in df.loc[i, 'Titulo']:\n",
    "        # separar el texto antes del indicador \"GA\"\n",
    "        titulo_corto, codigo_ga = df.loc[i, 'Titulo'].split('GA')\n",
    "        df.loc[i, 'Tarea'] = titulo_corto.strip()\n",
    "        df.loc[i, 'Evidencia'] = 'GA' + codigo_ga.strip()\n",
    "    else:\n",
    "        # si el indicador \"GA\" no está presente, copiar todo el texto en \"Titulo_corto\"\n",
    "        df.loc[i, 'Tarea'] = df.loc[i, 'Titulo']"
   ]
  },
  {
   "cell_type": "code",
   "execution_count": 7,
   "metadata": {},
   "outputs": [],
   "source": [
    "evidencia = df.loc[:, ['Tarea', 'Evidencia', 'Calificacion','Entrega','Fase']]"
   ]
  },
  {
   "cell_type": "code",
   "execution_count": 8,
   "metadata": {},
   "outputs": [],
   "source": [
    "import psycopg2\n",
    "\n",
    "# Conectar a la base de datos\n",
    "conn = psycopg2.connect(\n",
    "    host=\"127.0.0.1\",\n",
    "    database=\"pcl\",\n",
    "    user=\"postgres\",\n",
    "    password=\"123456\"\n",
    ")\n",
    "\n",
    "# Abrir un cursor\n",
    "cur = conn.cursor()\n",
    "\n",
    "# Ejecutar un TRUNCATE en la tabla para limpiarla\n",
    "cur.execute(\"TRUNCATE adso.scraping_web\")\n",
    "\n",
    "# Iterar sobre las filas del dataframe y guardar los datos en la base de datos\n",
    "for index, row in evidencia.iterrows():\n",
    "    tarea = row['Tarea']\n",
    "    evidencia = row['Evidencia']\n",
    "    calificacion = row['Calificacion']\n",
    "    entrega = row['Entrega']\n",
    "    fase = row['Fase']\n",
    "    query = f\"INSERT INTO adso.scraping_web (Tarea, Evidencia, Calificacion, Entrega, Fase) VALUES ('{tarea}', '{evidencia}', '{calificacion}', '{entrega}', '{fase}')\"\n",
    "    cur.execute(query)\n",
    "\n",
    "# Guardar los cambios y cerrar la conexión\n",
    "conn.commit()\n",
    "cur.close()\n",
    "conn.close()\n",
    "\n"
   ]
  },
  {
   "cell_type": "code",
   "execution_count": null,
   "metadata": {},
   "outputs": [],
   "source": [
    "# Exportar el dataframe a un archivo de Excel\n",
    "evidencia.to_excel('ejemplo.xlsx', index=False)"
   ]
  },
  {
   "cell_type": "code",
   "execution_count": null,
   "metadata": {},
   "outputs": [],
   "source": [
    "import mysql.connector\n",
    "\n",
    "# Conectar a la base de datos\n",
    "conn = mysql.connector.connect(\n",
    "    host=\"localhost\",\n",
    "    database=\"pcl\",\n",
    "    user=\"root\",\n",
    "    password=\"123456\"\n",
    ")\n",
    "\n",
    "# Abrir un cursor\n",
    "cur = conn.cursor()\n",
    "\n",
    "# Iterar sobre las filas del dataframe y guardar los datos en la base de datos\n",
    "for index, row in evidencia.iterrows():\n",
    "    tarea = row['Tarea']\n",
    "    evidencia = row['Evidencia']\n",
    "    calificacion = row['Calificacion']\n",
    "    entrega = row['Entrega']\n",
    "    fase = row['Fase']\n",
    "    query = f\"INSERT INTO scraping_web (Tarea, Evidencia, Calificacion, Entrega, Fase) VALUES ('{tarea}', '{evidencia}', '{calificacion}', '{entrega}', '{fase}')\"\n",
    "    cur.execute(query)\n",
    "\n",
    "# Guardar los cambios y cerrar la conexión\n",
    "conn.commit()\n",
    "cur.close()\n",
    "conn.close()\n"
   ]
  }
 ],
 "metadata": {
  "kernelspec": {
   "display_name": "Python 3",
   "language": "python",
   "name": "python3"
  },
  "language_info": {
   "codemirror_mode": {
    "name": "ipython",
    "version": 3
   },
   "file_extension": ".py",
   "mimetype": "text/x-python",
   "name": "python",
   "nbconvert_exporter": "python",
   "pygments_lexer": "ipython3",
   "version": "3.11.2"
  },
  "orig_nbformat": 4,
  "vscode": {
   "interpreter": {
    "hash": "3b7d32af1e689683b59f84af5e00ff8511e054604b74fc1830ce1b819250cf76"
   }
  }
 },
 "nbformat": 4,
 "nbformat_minor": 2
}
